{
  "nbformat": 4,
  "nbformat_minor": 0,
  "metadata": {
    "colab": {
      "provenance": []
    },
    "kernelspec": {
      "name": "python3",
      "display_name": "Python 3"
    },
    "language_info": {
      "name": "python"
    }
  },
  "cells": [
    {
      "cell_type": "code",
      "execution_count": 1,
      "metadata": {
        "colab": {
          "base_uri": "https://localhost:8080/"
        },
        "id": "TwbykNc_xLcP",
        "outputId": "032c76a3-cfe2-4766-d5f8-3b6c64e6fa3b"
      },
      "outputs": [
        {
          "output_type": "stream",
          "name": "stdout",
          "text": [
            "expected result: 10, actual_result : 10.0 \n",
            "expected result: 7123.6902801, actual_result : 7123.690280065897 \n"
          ]
        }
      ],
      "source": [
        "# task no 1\n",
        "def population_density(population,land_area):\n",
        "    return population/land_area\n",
        "\n",
        "\n",
        "test1= population_density(10,1)\n",
        "expected_result1=10\n",
        "\n",
        "print(\"expected result: {}, actual_result : {} \".format(expected_result1,test1))\n",
        "\n",
        "\n",
        "test2=population_density(864816,121.4)\n",
        "expected_result2=7123.6902801\n",
        "\n",
        "print(\"expected result: {}, actual_result : {} \".format(expected_result2,test2))\n"
      ]
    },
    {
      "cell_type": "code",
      "source": [
        "#Task no 2\n",
        "\n",
        "def readable_timedelta(days):\n",
        "  weeks=int(days/7)\n",
        "  remaining_days=weeks*7\n",
        "  final_days=days-remaining_days\n",
        "\n",
        "  return (\"{} weeks and {} days \".format(weeks,final_days))\n",
        "\n",
        "\n",
        "print(readable_timedelta(10))\n"
      ],
      "metadata": {
        "colab": {
          "base_uri": "https://localhost:8080/"
        },
        "id": "SHh7Q9U7xfeX",
        "outputId": "1597ef0b-0e42-40a7-c765-18ff55697652"
      },
      "execution_count": 3,
      "outputs": [
        {
          "output_type": "stream",
          "name": "stdout",
          "text": [
            "1 weeks and 3 days \n"
          ]
        }
      ]
    },
    {
      "cell_type": "code",
      "source": [
        "# Task no 3\n",
        "\n",
        "numbers =[[34,63,88,71,29],[90,78,51,27,45],[63,37,85,46,22],[51,22,34,11,18]]\n",
        "\n",
        "#orginal functions\n",
        "def mean(num_list):\n",
        "  return sum(num_list)/len(num_list)\n",
        "\n",
        "#lambda functions\n",
        "x = lambda num_list: sum(num_list)/len(num_list)\n",
        "averages = list(map(x,numbers))\n",
        "print(averages)"
      ],
      "metadata": {
        "colab": {
          "base_uri": "https://localhost:8080/"
        },
        "id": "xW4V6ttDzAts",
        "outputId": "ebb64c45-e4fc-42a5-c8a7-ce0032214fba"
      },
      "execution_count": 5,
      "outputs": [
        {
          "output_type": "stream",
          "name": "stdout",
          "text": [
            "[57.0, 58.2, 50.6, 27.2]\n"
          ]
        }
      ]
    },
    {
      "cell_type": "code",
      "source": [
        "# TAsk no 4\n",
        "cities = [\"New York City\", \"Los Angeles\", \"Chicago\", \"Mountain\",\"View\", \"Denver\", \"Boston\"]\n",
        "\n",
        "def is_short(name):\n",
        " return len(name) < 10\n",
        "\n",
        " x = lambda name: len(name) < 10\n",
        "\n",
        "short_cities = list(filter(x, cities))\n",
        "print(short_cities)\n",
        "\n",
        "\n"
      ],
      "metadata": {
        "colab": {
          "base_uri": "https://localhost:8080/"
        },
        "id": "g9hV9CfI4vAu",
        "outputId": "db960359-9bd3-4d64-d23d-dda78edd4947"
      },
      "execution_count": 13,
      "outputs": [
        {
          "output_type": "stream",
          "name": "stdout",
          "text": [
            "['Chicago', 'Mountain', 'View', 'Denver', 'Boston']\n"
          ]
        }
      ]
    },
    {
      "cell_type": "code",
      "source": [],
      "metadata": {
        "id": "tzdFL9v94w_r"
      },
      "execution_count": null,
      "outputs": []
    },
    {
      "cell_type": "code",
      "source": [
        "# Task no 5\n",
        "\n",
        "names =[] # get and process input for a list of names\n",
        "assignments =[] # get and process input for a list of the number ofassignments\n",
        "grades = []# get and process input for a list of grades\n",
        "# message string to be used for each student\n",
        "# HINT: use .format() with this string in your for loop message = \"Hi {},\\n\\nThis is a reminder that you have {} assignments leftto \\submit before you can graduate. You're current grade is {} and can increase to {} if you submit all assignments before the due date.\\n\\n\"\n",
        "# names\n",
        "names=input(\"Enter names seperated by commnas:\")\n",
        "names=names.split(',')\n",
        "\n",
        "assignments = input(\"Enter assignments counts seprated by commas:\")\n",
        "assignments = assignments.split(',')\n",
        "grades=input(\"Enter grades seperated by commas :\")\n",
        "grades= grades.split(',')\n",
        "\n",
        "for i in range(len(names)):\n",
        "  potential_grade = int(grades[i]) + (2 * int(assignments[i]))\n",
        "  print(\"Hi {},\\n\\nThis is a reminder that you have {} assignments leftto \\submit before you can graduate. You're current grade is {} and can increase to {} if you submit all assignments before the due date.\\n\\n\".format(names[i],assignments[i],grades[i],potential_grade))\n",
        "\n",
        "\n",
        "\n",
        "\n",
        "\n"
      ],
      "metadata": {
        "colab": {
          "base_uri": "https://localhost:8080/"
        },
        "id": "-SSHhKeT4xAn",
        "outputId": "ac936503-6710-4d8a-eb02-ebb7df6a91ff"
      },
      "execution_count": 30,
      "outputs": [
        {
          "output_type": "stream",
          "name": "stdout",
          "text": [
            "Enter names seperated by commnas:ali,usama,jawad\n",
            "Enter assignments counts seprated by commas:3,5,6\n",
            "Enter grades seperated by commas :43,65,43\n",
            "Hi ali,\n",
            "\n",
            "This is a reminder that you have 3 assignments leftto \\submit before you can graduate. You're current grade is 43 and can increase to 49 if you submit all assignments before the due date.\n",
            "\n",
            "\n",
            "Hi usama,\n",
            "\n",
            "This is a reminder that you have 5 assignments leftto \\submit before you can graduate. You're current grade is 65 and can increase to 75 if you submit all assignments before the due date.\n",
            "\n",
            "\n",
            "Hi jawad,\n",
            "\n",
            "This is a reminder that you have 6 assignments leftto \\submit before you can graduate. You're current grade is 43 and can increase to 55 if you submit all assignments before the due date.\n",
            "\n",
            "\n"
          ]
        }
      ]
    }
  ]
}